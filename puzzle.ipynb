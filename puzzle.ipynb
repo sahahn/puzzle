{
 "cells": [
  {
   "cell_type": "markdown",
   "id": "engaging-robertson",
   "metadata": {},
   "source": [
    "Brute force solution to below problem"
   ]
  },
  {
   "cell_type": "code",
   "execution_count": 1,
   "id": "english-schedule",
   "metadata": {},
   "outputs": [],
   "source": [
    "from IPython.display import Image\n",
    "# Uncomment to see photo of question\n",
    "#Image(\"Eu9g8WdVIAYfUpI.jpeg\")"
   ]
  },
  {
   "cell_type": "markdown",
   "id": "adolescent-restoration",
   "metadata": {},
   "source": [
    "Assume labels are:\n",
    "\n",
    "\n",
    "```\n",
    " Bottom      Middle        Top\n",
    " 1, 2, 3   10, 11, 12   19, 20, 21\n",
    " 4, 5, 6   13, 14, 15   22, 23, 24\n",
    " 7, 8, 9   16, 17, 18   25, 26, 27\n",
    "```"
   ]
  },
  {
   "cell_type": "markdown",
   "id": "controlled-partner",
   "metadata": {},
   "source": [
    "Make graph representing all possible connections"
   ]
  },
  {
   "cell_type": "code",
   "execution_count": 2,
   "id": "theoretical-switzerland",
   "metadata": {},
   "outputs": [
    {
     "output_type": "execute_result",
     "data": {
      "text/plain": [
       "(54, 27)"
      ]
     },
     "metadata": {},
     "execution_count": 2
    }
   ],
   "source": [
    "import networkx as nx\n",
    "\n",
    "g = nx.Graph()\n",
    "\n",
    "g.add_edge(1, 2), g.add_edge(10, 11), g.add_edge(19, 20)\n",
    "g.add_edge(1, 4), g.add_edge(10, 13), g.add_edge(19, 22)\n",
    "g.add_edge(1, 10), g.add_edge(10, 19)\n",
    "\n",
    "g.add_edge(2, 3), g.add_edge(11, 12), g.add_edge(20, 21)\n",
    "g.add_edge(2, 5), g.add_edge(11, 14), g.add_edge(20, 23)\n",
    "g.add_edge(2, 11), g.add_edge(11, 20)\n",
    "\n",
    "g.add_edge(3, 6), g.add_edge(12, 15), g.add_edge(21, 24)\n",
    "g.add_edge(3, 12), g.add_edge(12, 21)\n",
    "\n",
    "g.add_edge(4, 5), g.add_edge(13, 14), g.add_edge(22, 23)\n",
    "g.add_edge(4, 7), g.add_edge(13, 16), g.add_edge(22, 25)\n",
    "g.add_edge(4, 13), g.add_edge(13, 22)\n",
    "\n",
    "g.add_edge(5, 6), g.add_edge(14, 15), g.add_edge(23, 24)\n",
    "g.add_edge(5, 8), g.add_edge(14, 17), g.add_edge(23, 26)\n",
    "g.add_edge(5, 14), g.add_edge(14, 23)\n",
    "\n",
    "g.add_edge(6, 9), g.add_edge(15, 18), g.add_edge(24, 27)\n",
    "g.add_edge(6, 15), g.add_edge(15, 24)\n",
    "\n",
    "g.add_edge(7, 8), g.add_edge(16, 17), g.add_edge(25, 26)\n",
    "g.add_edge(7, 16), g.add_edge(16, 25)\n",
    "\n",
    "g.add_edge(8, 9), g.add_edge(17, 18), g.add_edge(26, 27)\n",
    "g.add_edge(8, 17), g.add_edge(17, 26)\n",
    "\n",
    "g.add_edge(9, 18), g.add_edge(18, 27)\n",
    "\n",
    "len(g.edges()), len(g.nodes())"
   ]
  },
  {
   "cell_type": "markdown",
   "id": "widespread-transition",
   "metadata": {},
   "source": [
    "Enumerate all possible illegal moves as any series of three moves that violates that 90 degree turn rule."
   ]
  },
  {
   "cell_type": "code",
   "execution_count": 3,
   "id": "automatic-mainstream",
   "metadata": {},
   "outputs": [
    {
     "output_type": "execute_result",
     "data": {
      "text/plain": [
       "27"
      ]
     },
     "metadata": {},
     "execution_count": 3
    }
   ],
   "source": [
    "illegal = set([frozenset([i, i+1, i+2]) for i in range(1, 26, 3)])\n",
    "illegal.update(set([frozenset([i, i+9, i+18]) for i in range(1, 10)]))\n",
    "illegal.update(set([frozenset([i, i+3, i+6]) for i in [1, 2, 3, 10, 11, 12, 19, 20, 21]]))\n",
    "len(illegal)"
   ]
  },
  {
   "cell_type": "code",
   "execution_count": 4,
   "id": "sized-bradford",
   "metadata": {},
   "outputs": [
    {
     "output_type": "stream",
     "name": "stdout",
     "text": [
      "(1, 2)\n",
      "(1, 4)\n",
      "(1, 10)\n",
      "(2, 3)\n",
      "(2, 5)\n",
      "(2, 11)\n",
      "(10, 11)\n",
      "(10, 13)\n",
      "(10, 19)\n",
      "(11, 12)\n",
      "(11, 14)\n",
      "(11, 20)\n",
      "(19, 20)\n",
      "(19, 22)\n",
      "(20, 21)\n",
      "(20, 23)\n",
      "(4, 5)\n",
      "(4, 7)\n",
      "(4, 13)\n",
      "(13, 14)\n",
      "(13, 16)\n",
      "(13, 22)\n",
      "(22, 23)\n",
      "(22, 25)\n",
      "(3, 6)\n",
      "(3, 12)\n",
      "(12, 15)\n",
      "(12, 21)\n",
      "(21, 24)\n",
      "(5, 6)\n",
      "(5, 8)\n",
      "(5, 14)\n",
      "(14, 15)\n",
      "(14, 17)\n",
      "(14, 23)\n",
      "(23, 24)\n",
      "(23, 26)\n",
      "(6, 9)\n",
      "(6, 15)\n",
      "(15, 18)\n",
      "(15, 24)\n",
      "(24, 27)\n",
      "(7, 8)\n",
      "(7, 16)\n",
      "(16, 17)\n",
      "(16, 25)\n",
      "(25, 26)\n",
      "(8, 9)\n",
      "(8, 17)\n",
      "(17, 18)\n",
      "(17, 26)\n",
      "(26, 27)\n",
      "(9, 18)\n",
      "(18, 27)\n"
     ]
    }
   ],
   "source": [
    "def next_move(g, path):\n",
    "    \n",
    "    # If the path completed it will be 27 moves\n",
    "    # long, print it out as it is a solution\n",
    "    if len(path) == len(g.nodes()):\n",
    "        print(path)\n",
    "    \n",
    "    non_used = [ed for ed in g.edges(path[-1]) if ed[1] not in set(path)]\n",
    "    for ed in non_used:\n",
    "        if frozenset([path[-2], path[-1], ed[1]]) not in illegal:\n",
    "            next_path = path.copy() + [ed[1]]\n",
    "            next_move(g, next_path)\n",
    "\n",
    "for e in list(g.edges()):\n",
    "    \n",
    "    # Print current edge for progress\n",
    "    print(e)\n",
    "\n",
    "    next_move(g, [e[0], e[1]])"
   ]
  },
  {
   "cell_type": "markdown",
   "id": "initial-monthly",
   "metadata": {},
   "source": [
    "and ... no solution"
   ]
  }
 ],
 "metadata": {
  "kernelspec": {
   "display_name": "Python 3.7.6 64-bit ('home': conda)",
   "language": "python",
   "name": "python37664bithomeconda129f7940272f4c8dbe6b13031aa20709"
  },
  "language_info": {
   "codemirror_mode": {
    "name": "ipython",
    "version": 3
   },
   "file_extension": ".py",
   "mimetype": "text/x-python",
   "name": "python",
   "nbconvert_exporter": "python",
   "pygments_lexer": "ipython3",
   "version": "3.8.5-final"
  }
 },
 "nbformat": 4,
 "nbformat_minor": 5
}